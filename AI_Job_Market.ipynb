{
 "cells": [
  {
   "cell_type": "code",
   "execution_count": 1,
   "id": "7586ce6a-ded7-45ea-ba19-6bde70a421b4",
   "metadata": {},
   "outputs": [],
   "source": [
    "import pandas as pd\n",
    "import matplotlib.pyplot as plt\n",
    "import seaborn as sns\n",
    "\n",
    "import warnings\n",
    "warnings.simplefilter('ignore')"
   ]
  },
  {
   "cell_type": "code",
   "execution_count": 4,
   "id": "b026e51e-3844-40ff-b530-c4bb76408887",
   "metadata": {},
   "outputs": [
    {
     "data": {
      "text/html": [
       "<div>\n",
       "<style scoped>\n",
       "    .dataframe tbody tr th:only-of-type {\n",
       "        vertical-align: middle;\n",
       "    }\n",
       "\n",
       "    .dataframe tbody tr th {\n",
       "        vertical-align: top;\n",
       "    }\n",
       "\n",
       "    .dataframe thead th {\n",
       "        text-align: right;\n",
       "    }\n",
       "</style>\n",
       "<table border=\"1\" class=\"dataframe\">\n",
       "  <thead>\n",
       "    <tr style=\"text-align: right;\">\n",
       "      <th></th>\n",
       "      <th>Job_Title</th>\n",
       "      <th>Industry</th>\n",
       "      <th>Company_Size</th>\n",
       "      <th>Location</th>\n",
       "      <th>AI_Adoption_Level</th>\n",
       "      <th>Automation_Risk</th>\n",
       "      <th>Required_Skills</th>\n",
       "      <th>Salary_USD</th>\n",
       "      <th>Remote_Friendly</th>\n",
       "      <th>Job_Growth_Projection</th>\n",
       "    </tr>\n",
       "  </thead>\n",
       "  <tbody>\n",
       "    <tr>\n",
       "      <th>0</th>\n",
       "      <td>Cybersecurity Analyst</td>\n",
       "      <td>Entertainment</td>\n",
       "      <td>Small</td>\n",
       "      <td>Dubai</td>\n",
       "      <td>Medium</td>\n",
       "      <td>High</td>\n",
       "      <td>UX/UI Design</td>\n",
       "      <td>111392.16520</td>\n",
       "      <td>Yes</td>\n",
       "      <td>Growth</td>\n",
       "    </tr>\n",
       "    <tr>\n",
       "      <th>1</th>\n",
       "      <td>Marketing Specialist</td>\n",
       "      <td>Technology</td>\n",
       "      <td>Large</td>\n",
       "      <td>Singapore</td>\n",
       "      <td>Medium</td>\n",
       "      <td>High</td>\n",
       "      <td>Marketing</td>\n",
       "      <td>93792.56247</td>\n",
       "      <td>No</td>\n",
       "      <td>Decline</td>\n",
       "    </tr>\n",
       "    <tr>\n",
       "      <th>2</th>\n",
       "      <td>AI Researcher</td>\n",
       "      <td>Technology</td>\n",
       "      <td>Large</td>\n",
       "      <td>Singapore</td>\n",
       "      <td>Medium</td>\n",
       "      <td>High</td>\n",
       "      <td>UX/UI Design</td>\n",
       "      <td>107170.26310</td>\n",
       "      <td>Yes</td>\n",
       "      <td>Growth</td>\n",
       "    </tr>\n",
       "    <tr>\n",
       "      <th>3</th>\n",
       "      <td>Sales Manager</td>\n",
       "      <td>Retail</td>\n",
       "      <td>Small</td>\n",
       "      <td>Berlin</td>\n",
       "      <td>Low</td>\n",
       "      <td>High</td>\n",
       "      <td>Project Management</td>\n",
       "      <td>93027.95376</td>\n",
       "      <td>No</td>\n",
       "      <td>Growth</td>\n",
       "    </tr>\n",
       "    <tr>\n",
       "      <th>4</th>\n",
       "      <td>Cybersecurity Analyst</td>\n",
       "      <td>Entertainment</td>\n",
       "      <td>Small</td>\n",
       "      <td>Tokyo</td>\n",
       "      <td>Low</td>\n",
       "      <td>Low</td>\n",
       "      <td>JavaScript</td>\n",
       "      <td>87752.92217</td>\n",
       "      <td>Yes</td>\n",
       "      <td>Decline</td>\n",
       "    </tr>\n",
       "    <tr>\n",
       "      <th>...</th>\n",
       "      <td>...</td>\n",
       "      <td>...</td>\n",
       "      <td>...</td>\n",
       "      <td>...</td>\n",
       "      <td>...</td>\n",
       "      <td>...</td>\n",
       "      <td>...</td>\n",
       "      <td>...</td>\n",
       "      <td>...</td>\n",
       "      <td>...</td>\n",
       "    </tr>\n",
       "    <tr>\n",
       "      <th>495</th>\n",
       "      <td>Data Scientist</td>\n",
       "      <td>Telecommunications</td>\n",
       "      <td>Medium</td>\n",
       "      <td>Berlin</td>\n",
       "      <td>Low</td>\n",
       "      <td>Medium</td>\n",
       "      <td>Machine Learning</td>\n",
       "      <td>105821.39400</td>\n",
       "      <td>Yes</td>\n",
       "      <td>Stable</td>\n",
       "    </tr>\n",
       "    <tr>\n",
       "      <th>496</th>\n",
       "      <td>Cybersecurity Analyst</td>\n",
       "      <td>Telecommunications</td>\n",
       "      <td>Small</td>\n",
       "      <td>London</td>\n",
       "      <td>Low</td>\n",
       "      <td>High</td>\n",
       "      <td>UX/UI Design</td>\n",
       "      <td>119794.99210</td>\n",
       "      <td>No</td>\n",
       "      <td>Decline</td>\n",
       "    </tr>\n",
       "    <tr>\n",
       "      <th>497</th>\n",
       "      <td>Cybersecurity Analyst</td>\n",
       "      <td>Energy</td>\n",
       "      <td>Large</td>\n",
       "      <td>Dubai</td>\n",
       "      <td>High</td>\n",
       "      <td>Low</td>\n",
       "      <td>UX/UI Design</td>\n",
       "      <td>79644.93310</td>\n",
       "      <td>Yes</td>\n",
       "      <td>Stable</td>\n",
       "    </tr>\n",
       "    <tr>\n",
       "      <th>498</th>\n",
       "      <td>Operations Manager</td>\n",
       "      <td>Healthcare</td>\n",
       "      <td>Large</td>\n",
       "      <td>Paris</td>\n",
       "      <td>High</td>\n",
       "      <td>Low</td>\n",
       "      <td>Python</td>\n",
       "      <td>77642.15063</td>\n",
       "      <td>Yes</td>\n",
       "      <td>Stable</td>\n",
       "    </tr>\n",
       "    <tr>\n",
       "      <th>499</th>\n",
       "      <td>HR Manager</td>\n",
       "      <td>Entertainment</td>\n",
       "      <td>Medium</td>\n",
       "      <td>Berlin</td>\n",
       "      <td>Medium</td>\n",
       "      <td>High</td>\n",
       "      <td>Project Management</td>\n",
       "      <td>68764.37892</td>\n",
       "      <td>Yes</td>\n",
       "      <td>Decline</td>\n",
       "    </tr>\n",
       "  </tbody>\n",
       "</table>\n",
       "<p>500 rows × 10 columns</p>\n",
       "</div>"
      ],
      "text/plain": [
       "                 Job_Title            Industry Company_Size   Location  \\\n",
       "0    Cybersecurity Analyst       Entertainment        Small      Dubai   \n",
       "1     Marketing Specialist          Technology        Large  Singapore   \n",
       "2            AI Researcher          Technology        Large  Singapore   \n",
       "3            Sales Manager              Retail        Small     Berlin   \n",
       "4    Cybersecurity Analyst       Entertainment        Small      Tokyo   \n",
       "..                     ...                 ...          ...        ...   \n",
       "495         Data Scientist  Telecommunications       Medium     Berlin   \n",
       "496  Cybersecurity Analyst  Telecommunications        Small     London   \n",
       "497  Cybersecurity Analyst              Energy        Large      Dubai   \n",
       "498     Operations Manager          Healthcare        Large      Paris   \n",
       "499             HR Manager       Entertainment       Medium     Berlin   \n",
       "\n",
       "    AI_Adoption_Level Automation_Risk     Required_Skills    Salary_USD  \\\n",
       "0              Medium            High        UX/UI Design  111392.16520   \n",
       "1              Medium            High           Marketing   93792.56247   \n",
       "2              Medium            High        UX/UI Design  107170.26310   \n",
       "3                 Low            High  Project Management   93027.95376   \n",
       "4                 Low             Low          JavaScript   87752.92217   \n",
       "..                ...             ...                 ...           ...   \n",
       "495               Low          Medium    Machine Learning  105821.39400   \n",
       "496               Low            High        UX/UI Design  119794.99210   \n",
       "497              High             Low        UX/UI Design   79644.93310   \n",
       "498              High             Low              Python   77642.15063   \n",
       "499            Medium            High  Project Management   68764.37892   \n",
       "\n",
       "    Remote_Friendly Job_Growth_Projection  \n",
       "0               Yes                Growth  \n",
       "1                No               Decline  \n",
       "2               Yes                Growth  \n",
       "3                No                Growth  \n",
       "4               Yes               Decline  \n",
       "..              ...                   ...  \n",
       "495             Yes                Stable  \n",
       "496              No               Decline  \n",
       "497             Yes                Stable  \n",
       "498             Yes                Stable  \n",
       "499             Yes               Decline  \n",
       "\n",
       "[500 rows x 10 columns]"
      ]
     },
     "execution_count": 4,
     "metadata": {},
     "output_type": "execute_result"
    }
   ],
   "source": [
    "data = pd.read_csv(r'D:\\Analysis\\Projects\\AI_Job_Market.csv')\n",
    "data"
   ]
  },
  {
   "cell_type": "code",
   "execution_count": 5,
   "id": "7166f261-6495-4a2d-a74e-82467bc5d93d",
   "metadata": {},
   "outputs": [
    {
     "name": "stdout",
     "output_type": "stream",
     "text": [
      "<class 'pandas.core.frame.DataFrame'>\n",
      "RangeIndex: 500 entries, 0 to 499\n",
      "Data columns (total 10 columns):\n",
      " #   Column                 Non-Null Count  Dtype  \n",
      "---  ------                 --------------  -----  \n",
      " 0   Job_Title              500 non-null    object \n",
      " 1   Industry               500 non-null    object \n",
      " 2   Company_Size           500 non-null    object \n",
      " 3   Location               500 non-null    object \n",
      " 4   AI_Adoption_Level      500 non-null    object \n",
      " 5   Automation_Risk        500 non-null    object \n",
      " 6   Required_Skills        500 non-null    object \n",
      " 7   Salary_USD             500 non-null    float64\n",
      " 8   Remote_Friendly        500 non-null    object \n",
      " 9   Job_Growth_Projection  500 non-null    object \n",
      "dtypes: float64(1), object(9)\n",
      "memory usage: 39.2+ KB\n"
     ]
    }
   ],
   "source": [
    "data.info()"
   ]
  },
  {
   "cell_type": "code",
   "execution_count": 6,
   "id": "47d5e688-7068-4c30-ab72-bf5d965004a8",
   "metadata": {},
   "outputs": [
    {
     "data": {
      "text/plain": [
       "Job_Title                0\n",
       "Industry                 0\n",
       "Company_Size             0\n",
       "Location                 0\n",
       "AI_Adoption_Level        0\n",
       "Automation_Risk          0\n",
       "Required_Skills          0\n",
       "Salary_USD               0\n",
       "Remote_Friendly          0\n",
       "Job_Growth_Projection    0\n",
       "dtype: int64"
      ]
     },
     "execution_count": 6,
     "metadata": {},
     "output_type": "execute_result"
    }
   ],
   "source": [
    "data.isnull().sum()"
   ]
  },
  {
   "cell_type": "markdown",
   "id": "c1779338-cc23-4b48-a08a-1028f6f613ec",
   "metadata": {},
   "source": [
    "- There are no null values in the given data"
   ]
  },
  {
   "cell_type": "code",
   "execution_count": 7,
   "id": "b4aeba44-7df9-42b0-89f3-51fcaea65360",
   "metadata": {},
   "outputs": [
    {
     "data": {
      "text/plain": [
       "Index(['Job_Title', 'Industry', 'Company_Size', 'Location',\n",
       "       'AI_Adoption_Level', 'Automation_Risk', 'Required_Skills', 'Salary_USD',\n",
       "       'Remote_Friendly', 'Job_Growth_Projection'],\n",
       "      dtype='object')"
      ]
     },
     "execution_count": 7,
     "metadata": {},
     "output_type": "execute_result"
    }
   ],
   "source": [
    "data.columns"
   ]
  },
  {
   "cell_type": "code",
   "execution_count": 8,
   "id": "6d413600-c096-4ec5-b495-05da5396b9c1",
   "metadata": {},
   "outputs": [
    {
     "data": {
      "text/plain": [
       "10"
      ]
     },
     "execution_count": 8,
     "metadata": {},
     "output_type": "execute_result"
    }
   ],
   "source": [
    "data['Job_Title'].nunique()"
   ]
  },
  {
   "cell_type": "code",
   "execution_count": 9,
   "id": "922d5877-14eb-4323-be1f-f04cf958a055",
   "metadata": {},
   "outputs": [
    {
     "data": {
      "text/plain": [
       "array(['Cybersecurity Analyst', 'Marketing Specialist', 'AI Researcher',\n",
       "       'Sales Manager', 'UX Designer', 'HR Manager', 'Product Manager',\n",
       "       'Software Engineer', 'Data Scientist', 'Operations Manager'],\n",
       "      dtype=object)"
      ]
     },
     "execution_count": 9,
     "metadata": {},
     "output_type": "execute_result"
    }
   ],
   "source": [
    "data['Job_Title'].unique()"
   ]
  },
  {
   "cell_type": "code",
   "execution_count": 10,
   "id": "8232609f-bd1f-4f21-ab44-10d02d9bc889",
   "metadata": {},
   "outputs": [
    {
     "data": {
      "text/plain": [
       "10"
      ]
     },
     "execution_count": 10,
     "metadata": {},
     "output_type": "execute_result"
    }
   ],
   "source": [
    "data['Industry'].nunique()"
   ]
  },
  {
   "cell_type": "code",
   "execution_count": 11,
   "id": "c428ceca-2eec-43a3-b515-fe1bc47cf95c",
   "metadata": {},
   "outputs": [
    {
     "data": {
      "text/plain": [
       "array(['Entertainment', 'Technology', 'Retail', 'Education', 'Finance',\n",
       "       'Transportation', 'Telecommunications', 'Manufacturing',\n",
       "       'Healthcare', 'Energy'], dtype=object)"
      ]
     },
     "execution_count": 11,
     "metadata": {},
     "output_type": "execute_result"
    }
   ],
   "source": [
    "data['Industry'].unique()"
   ]
  },
  {
   "cell_type": "code",
   "execution_count": 12,
   "id": "f866f0d8-617c-4d6b-894e-d01fbc030be8",
   "metadata": {},
   "outputs": [
    {
     "data": {
      "text/plain": [
       "3"
      ]
     },
     "execution_count": 12,
     "metadata": {},
     "output_type": "execute_result"
    }
   ],
   "source": [
    "data['Company_Size'].nunique()"
   ]
  },
  {
   "cell_type": "code",
   "execution_count": 13,
   "id": "0530628c-005d-4436-bc97-b79542d35f07",
   "metadata": {},
   "outputs": [
    {
     "data": {
      "text/plain": [
       "array(['Small', 'Large', 'Medium'], dtype=object)"
      ]
     },
     "execution_count": 13,
     "metadata": {},
     "output_type": "execute_result"
    }
   ],
   "source": [
    "data['Company_Size'].unique()"
   ]
  },
  {
   "cell_type": "code",
   "execution_count": 14,
   "id": "df4fea80-a592-4cb9-af43-e2847c5ccde2",
   "metadata": {},
   "outputs": [
    {
     "data": {
      "text/plain": [
       "10"
      ]
     },
     "execution_count": 14,
     "metadata": {},
     "output_type": "execute_result"
    }
   ],
   "source": [
    "data['Location'].nunique()"
   ]
  },
  {
   "cell_type": "code",
   "execution_count": 15,
   "id": "39ca0c89-5f1f-4726-9501-895fbe8f5328",
   "metadata": {},
   "outputs": [
    {
     "data": {
      "text/plain": [
       "array(['Dubai', 'Singapore', 'Berlin', 'Tokyo', 'San Francisco', 'London',\n",
       "       'Paris', 'Sydney', 'New York', 'Toronto'], dtype=object)"
      ]
     },
     "execution_count": 15,
     "metadata": {},
     "output_type": "execute_result"
    }
   ],
   "source": [
    "data['Location'].unique()"
   ]
  },
  {
   "cell_type": "code",
   "execution_count": 16,
   "id": "926fb4c4-f80a-4902-947d-c2fd3b1a4f11",
   "metadata": {},
   "outputs": [
    {
     "data": {
      "text/plain": [
       "3"
      ]
     },
     "execution_count": 16,
     "metadata": {},
     "output_type": "execute_result"
    }
   ],
   "source": [
    "data['AI_Adoption_Level'].nunique()"
   ]
  },
  {
   "cell_type": "code",
   "execution_count": 17,
   "id": "c49788dd-2b82-46fe-a808-d707a63d7603",
   "metadata": {},
   "outputs": [
    {
     "data": {
      "text/plain": [
       "array(['Medium', 'Low', 'High'], dtype=object)"
      ]
     },
     "execution_count": 17,
     "metadata": {},
     "output_type": "execute_result"
    }
   ],
   "source": [
    "data['AI_Adoption_Level'].unique()"
   ]
  },
  {
   "cell_type": "code",
   "execution_count": 18,
   "id": "fe67e61b-5846-498f-a1e4-268b8df81924",
   "metadata": {},
   "outputs": [
    {
     "data": {
      "text/plain": [
       "3"
      ]
     },
     "execution_count": 18,
     "metadata": {},
     "output_type": "execute_result"
    }
   ],
   "source": [
    "data['Automation_Risk'].nunique()"
   ]
  },
  {
   "cell_type": "code",
   "execution_count": 19,
   "id": "4e87c7ac-b022-4db6-878c-e9bf28220814",
   "metadata": {},
   "outputs": [
    {
     "data": {
      "text/plain": [
       "array(['High', 'Low', 'Medium'], dtype=object)"
      ]
     },
     "execution_count": 19,
     "metadata": {},
     "output_type": "execute_result"
    }
   ],
   "source": [
    "data['Automation_Risk'].unique()"
   ]
  },
  {
   "cell_type": "code",
   "execution_count": 20,
   "id": "c8c7b6fd-4e8f-4c2a-b175-e8a099a51f40",
   "metadata": {},
   "outputs": [
    {
     "data": {
      "text/plain": [
       "10"
      ]
     },
     "execution_count": 20,
     "metadata": {},
     "output_type": "execute_result"
    }
   ],
   "source": [
    "data['Required_Skills'].nunique()"
   ]
  },
  {
   "cell_type": "code",
   "execution_count": 21,
   "id": "996432ae-9c19-4759-b39c-d6bf8b722d03",
   "metadata": {},
   "outputs": [
    {
     "data": {
      "text/plain": [
       "array(['UX/UI Design', 'Marketing', 'Project Management', 'JavaScript',\n",
       "       'Cybersecurity', 'Sales', 'Machine Learning', 'Python',\n",
       "       'Data Analysis', 'Communication'], dtype=object)"
      ]
     },
     "execution_count": 21,
     "metadata": {},
     "output_type": "execute_result"
    }
   ],
   "source": [
    "data['Required_Skills'].unique()"
   ]
  },
  {
   "cell_type": "code",
   "execution_count": 22,
   "id": "c8352a1c-8bd9-42a7-b816-4a3b5acfa197",
   "metadata": {},
   "outputs": [
    {
     "data": {
      "text/plain": [
       "2"
      ]
     },
     "execution_count": 22,
     "metadata": {},
     "output_type": "execute_result"
    }
   ],
   "source": [
    "data['Remote_Friendly'].nunique()"
   ]
  },
  {
   "cell_type": "code",
   "execution_count": 23,
   "id": "74f7cfb7-ce9b-41b3-a7fb-cd45a98913fa",
   "metadata": {},
   "outputs": [
    {
     "data": {
      "text/plain": [
       "array(['Yes', 'No'], dtype=object)"
      ]
     },
     "execution_count": 23,
     "metadata": {},
     "output_type": "execute_result"
    }
   ],
   "source": [
    "data['Remote_Friendly'].unique()"
   ]
  },
  {
   "cell_type": "code",
   "execution_count": 24,
   "id": "6df67ac9-fdc5-48ee-a5e9-653369e33c7a",
   "metadata": {},
   "outputs": [
    {
     "data": {
      "text/plain": [
       "3"
      ]
     },
     "execution_count": 24,
     "metadata": {},
     "output_type": "execute_result"
    }
   ],
   "source": [
    "data['Job_Growth_Projection'].nunique()"
   ]
  },
  {
   "cell_type": "code",
   "execution_count": 25,
   "id": "239f6944-0f41-45a4-8d87-4f17340d41e8",
   "metadata": {},
   "outputs": [
    {
     "data": {
      "text/plain": [
       "array(['Growth', 'Decline', 'Stable'], dtype=object)"
      ]
     },
     "execution_count": 25,
     "metadata": {},
     "output_type": "execute_result"
    }
   ],
   "source": [
    "data['Job_Growth_Projection'].unique()"
   ]
  },
  {
   "cell_type": "code",
   "execution_count": 26,
   "id": "7e7cb5c9-5c6b-4952-9df2-4723ca971f20",
   "metadata": {},
   "outputs": [
    {
     "data": {
      "text/plain": [
       "count       500.000000\n",
       "mean      91222.390973\n",
       "std       20504.291452\n",
       "min       31969.526350\n",
       "25%       78511.514860\n",
       "50%       91998.195285\n",
       "75%      103971.282075\n",
       "max      155209.821600\n",
       "Name: Salary_USD, dtype: float64"
      ]
     },
     "execution_count": 26,
     "metadata": {},
     "output_type": "execute_result"
    }
   ],
   "source": [
    "data['Salary_USD'].describe()"
   ]
  },
  {
   "cell_type": "code",
   "execution_count": 27,
   "id": "75ec12a2-38f8-4721-bbb3-9384a81c64b1",
   "metadata": {},
   "outputs": [
    {
     "data": {
      "text/plain": [
       "<Axes: >"
      ]
     },
     "execution_count": 27,
     "metadata": {},
     "output_type": "execute_result"
    },
    {
     "data": {
      "image/png": "[encoded data removed]",
      "text/plain": [
       "<Figure size 640x480 with 1 Axes>"
      ]
     },
     "metadata": {},
     "output_type": "display_data"
    }
   ],
   "source": [
    "sns.boxplot(data['Salary_USD'])"
   ]
  },
  {
   "cell_type": "markdown",
   "id": "8387ad61-851a-48c7-a204-f2da76758295",
   "metadata": {},
   "source": [
    "- Here we cannot remove the outliers, Even if we remove the outliers still there is possibility of occuring outliers again. So that, we will retrain the outliers and analyze the data."
   ]
  },
  {
   "cell_type": "code",
   "execution_count": 28,
   "id": "5397ce67-f6c5-4a97-924d-22f62da72ffc",
   "metadata": {},
   "outputs": [
    {
     "data": {
      "text/plain": [
       "<Axes: xlabel='Salary_USD', ylabel='Count'>"
      ]
     },
     "execution_count": 28,
     "metadata": {},
     "output_type": "execute_result"
    },
    {
     "data": {
      "image/png": "[encoded data removed]",
      "text/plain": [
       "<Figure size 640x480 with 1 Axes>"
      ]
     },
     "metadata": {},
     "output_type": "display_data"
    }
   ],
   "source": [
    "sns.histplot(data['Salary_USD'],kde=True)"
   ]
  },
  {
   "cell_type": "code",
   "execution_count": 29,
   "id": "b931f70a-f4a7-4edb-8d37-2548d867f4c6",
   "metadata": {},
   "outputs": [
    {
     "data": {
      "text/plain": [
       "-0.160193626782763"
      ]
     },
     "execution_count": 29,
     "metadata": {},
     "output_type": "execute_result"
    }
   ],
   "source": [
    "data['Salary_USD'].skew()"
   ]
  },
  {
   "cell_type": "markdown",
   "id": "b8960713-2625-4ded-a4ad-b6504d898e27",
   "metadata": {},
   "source": [
    "- The given Data is skewed data. There is no need of Transformation."
   ]
  },
  {
   "cell_type": "code",
   "execution_count": null,
   "id": "40064a8b-7026-4fe9-9474-d5139dda8688",
   "metadata": {},
   "outputs": [],
   "source": []
  }
 ],
 "metadata": {
  "kernelspec": {
   "display_name": "Python 3 (ipykernel)",
   "language": "python",
   "name": "python3"
  },
  "language_info": {
   "codemirror_mode": {
    "name": "ipython",
    "version": 3
   },
   "file_extension": ".py",
   "mimetype": "text/x-python",
   "name": "python",
   "nbconvert_exporter": "python",
   "pygments_lexer": "ipython3",
   "version": "3.11.7"
  }
 },
 "nbformat": 4,
 "nbformat_minor": 5
}
